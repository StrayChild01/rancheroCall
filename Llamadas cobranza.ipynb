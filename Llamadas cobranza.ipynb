{
 "cells": [
  {
   "cell_type": "markdown",
   "metadata": {},
   "source": [
    "# Numeros de SPAM"
   ]
  },
  {
   "cell_type": "code",
   "execution_count": 2,
   "metadata": {},
   "outputs": [
    {
     "name": "stderr",
     "output_type": "stream",
     "text": [
      "\n",
      "Attaching package: 'dplyr'\n",
      "\n",
      "The following objects are masked from 'package:stats':\n",
      "\n",
      "    filter, lag\n",
      "\n",
      "The following objects are masked from 'package:base':\n",
      "\n",
      "    intersect, setdiff, setequal, union\n",
      "\n",
      "Loading required package: bitops\n"
     ]
    }
   ],
   "source": [
    "library(readr)\n",
    "library(mxmaps)\n",
    "library(dplyr)\n",
    "library(RCurl)\n",
    "\n",
    "columnas_log = c(\"accion\", \"pal_1\", \"fecha\", \"pal_2\", \"hora\", \"pal_3\", \"tipo_linea\", \"pal_4\", \"numero\", \"pal_5\", \"pal_6\", \"pal_7\", \"nombre\", \"meh\")\n",
    "\n",
    "## Readr imprime \"Parsed with column specification\", con esto se desactiva\n",
    "options(readr.num_columns = 0)\n",
    "\n",
    "ladas_mexico <- read_csv(\"/home/pi/notebooks/Python/datasets/ladas_mexico.csv\")\n",
    "\n",
    "## Descargar archivo en binario\n",
    "bin_file <- getBinaryURL(url = \"sftp://pi@192.168.1.152/home/pi/log_llamadas.log\", userpwd=\"pi:miPassword\")\n",
    "\n",
    "## Agregarle datos al archivo existente\n",
    "fconn <- file(\"/home/pi/notebooks/Python/datasets/log_llamadas.log\", \"ab\") # ab = append+binary\n",
    "\n",
    "## Escribir el archivo bajado en el archivo existente\n",
    "writeBin(bin_file, fconn)\n",
    "\n",
    "## Cerrar archivo.\n",
    "close(fconn)\n",
    "\n",
    "## Cargar archivo que recién descargamos\n",
    "numeros_bloqueados <- read_delim(\"/home/pi/notebooks/Python/datasets/log_llamadas.log\", delim=\"*\", col_names = columnas_log)\n",
    "\n",
    "# Eliminar datos duplicados\n",
    "numeros_bloqueados <-\n",
    "    numeros_bloqueados %>%\n",
    "        distinct(fecha, hora, numero)"
   ]
  },
  {
   "cell_type": "code",
   "execution_count": 11,
   "metadata": {},
   "outputs": [
    {
     "data": {
      "text/html": [
       "<iframe width=900 height=650 src=\"grafiquita.htm\"></iframe>"
      ]
     },
     "metadata": {},
     "output_type": "display_data"
    }
   ],
   "source": [
    "numeros_bloqueados <- numeros_bloqueados[,c(\"fecha\", \"hora\", \"numero\")]\n",
    "numeros_bloqueados$lada=substr(numeros_bloqueados$numero, 1, 3)\n",
    "\n",
    "ladas_mexico <-\n",
    "    ladas_mexico %>%\n",
    "    group_by(lada, estado) %>%\n",
    "    count() %>%\n",
    "    select(lada, estado)\n",
    "\n",
    "# La lada 56 también es de la CDMX, pero no está en el listado porque es nueva\n",
    "\n",
    "datos_completos <- merge(numeros_bloqueados, ladas_mexico, by=\"lada\", all.x=TRUE)\n",
    "\n",
    "llamadas_x_estado <-\n",
    "    datos_completos %>%\n",
    "    mutate(lada = ifelse(is.na(estado), substr(lada, 1,2), lada)) %>%\n",
    "    mutate(lada = ifelse(lada==\"56\", \"55\", lada)) %>%\n",
    "    mutate(lada = as.numeric(lada)) %>%    \n",
    "    left_join(ladas_mexico, by=\"lada\") %>% \n",
    "    mutate(estado.y = ifelse(estado.y==\"Distrito Federal\", \"Ciudad de México\", estado.y)) %>%\n",
    "    mutate(estado.y = ifelse(estado.y==\"Estado de México\", \"México\", estado.y)) %>%    \n",
    "    select(numero, estado.y)\n",
    "\n",
    "conteo_x_estados <- \n",
    "    llamadas_x_estado %>%\n",
    "    group_by(estado.y) %>%\n",
    "    count()\n",
    "\n",
    "names(conteo_x_estados)<-c(\"estado\", \"value\")\n",
    "\n",
    "data(\"df_mxstate\")\n",
    "\n",
    "datos_mexico <- df_mxstate\n",
    "\n",
    "datos_mexico <-\n",
    "    datos_mexico %>%\n",
    "    select(region, state_name) %>%\n",
    "    left_join(conteo_x_estados, by=c(\"state_name\"=\"estado\")) %>%\n",
    "    mutate(value = ifelse(is.na(value), 0, value))\n",
    "\n",
    "mapita_plot <- mxstate_choropleth(datos_mexico, num_colors = 1, title = \"Llamadas de cobranza\")\n",
    "\n",
    "# Para graficar el mapa con Plotly:\n",
    "library(plotly)\n",
    "library(IRdisplay)\n",
    "\n",
    "\n",
    "interactive_plot <- ggplotly(mapita_plot)\n",
    "# en Chrome sólo se imprime el plot y ya.\n",
    "# interactive_plot\n",
    "\n",
    "# Para que funcione en Firefox, se tiene que embeber en un iframe.\n",
    "htmlwidgets::saveWidget(interactive_plot, \"grafiquita.htm\", selfcontained = FALSE)\n",
    "display_html('<iframe width=900 height=650 src=\"grafiquita.htm\"></iframe>')"
   ]
  }
 ],
 "metadata": {
  "kernelspec": {
   "display_name": "R",
   "language": "R",
   "name": "ir"
  },
  "language_info": {
   "codemirror_mode": "r",
   "file_extension": ".r",
   "mimetype": "text/x-r-source",
   "name": "R",
   "pygments_lexer": "r",
   "version": "3.3.3"
  },
  "latex_envs": {
   "LaTeX_envs_menu_present": true,
   "autoclose": false,
   "autocomplete": true,
   "bibliofile": "biblio.bib",
   "cite_by": "apalike",
   "current_citInitial": 1,
   "eqLabelWithNumbers": true,
   "eqNumInitial": 1,
   "hotkeys": {
    "equation": "Ctrl-E",
    "itemize": "Ctrl-I"
   },
   "labels_anchors": false,
   "latex_user_defs": false,
   "report_style_numbering": false,
   "user_envs_cfg": false
  }
 },
 "nbformat": 4,
 "nbformat_minor": 2
}
